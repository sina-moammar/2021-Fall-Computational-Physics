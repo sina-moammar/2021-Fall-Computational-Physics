{
    "cells": [
        {
            "cell_type": "markdown",
            "source": [
                "# Numpy Workshop\n",
                "\n",
                "[documentation](https://numpy.org/doc/)"
            ],
            "metadata": {}
        },
        {
            "cell_type": "code",
            "execution_count": 231,
            "source": [
                "import numpy as np\n",
                "import matplotlib.pyplot as plt"
            ],
            "outputs": [],
            "metadata": {}
        },
        {
            "cell_type": "code",
            "execution_count": 232,
            "source": [
                "np.float32(23)"
            ],
            "outputs": [
                {
                    "output_type": "execute_result",
                    "data": {
                        "text/plain": [
                            "23.0"
                        ]
                    },
                    "metadata": {},
                    "execution_count": 232
                }
            ],
            "metadata": {}
        },
        {
            "cell_type": "code",
            "execution_count": 280,
            "source": [
                "np.random.seed(10)\n",
                "np.random.randint(0, 10, (2, 3))\n",
                "np.random.randint(0, 9, (2, 3))"
            ],
            "outputs": [
                {
                    "output_type": "execute_result",
                    "data": {
                        "text/plain": [
                            "array([[1, 8, 0],\n",
                            "       [8, 6, 4]])"
                        ]
                    },
                    "metadata": {},
                    "execution_count": 280
                }
            ],
            "metadata": {}
        },
        {
            "cell_type": "code",
            "execution_count": 287,
            "source": [
                "x = np.array([''], dtype=bool)\n",
                "x"
            ],
            "outputs": [
                {
                    "output_type": "execute_result",
                    "data": {
                        "text/plain": [
                            "array([False])"
                        ]
                    },
                    "metadata": {},
                    "execution_count": 287
                }
            ],
            "metadata": {}
        },
        {
            "cell_type": "markdown",
            "source": [
                "# Indexing"
            ],
            "metadata": {}
        },
        {
            "cell_type": "code",
            "execution_count": 341,
            "source": [
                "x = np.random.randint(0, 100, (4, 4))\n",
                "x"
            ],
            "outputs": [
                {
                    "output_type": "execute_result",
                    "data": {
                        "text/plain": [
                            "array([[62, 42, 34, 40],\n",
                            "       [46, 32, 94, 86],\n",
                            "       [58, 69, 45, 18],\n",
                            "       [50, 44,  1, 63]])"
                        ]
                    },
                    "metadata": {},
                    "execution_count": 341
                }
            ],
            "metadata": {}
        },
        {
            "cell_type": "code",
            "execution_count": 345,
            "source": [
                "mask = (x % 3 == 0)\n",
                "y = x[mask]"
            ],
            "outputs": [
                {
                    "output_type": "execute_result",
                    "data": {
                        "text/plain": [
                            "array([42, 69, 45, 18, 63])"
                        ]
                    },
                    "metadata": {},
                    "execution_count": 345
                }
            ],
            "metadata": {}
        },
        {
            "cell_type": "code",
            "execution_count": 347,
            "source": [
                "y[0] = 0\n",
                "x"
            ],
            "outputs": [
                {
                    "output_type": "execute_result",
                    "data": {
                        "text/plain": [
                            "array([[62, 42, 34, 40],\n",
                            "       [46, 32, 94, 86],\n",
                            "       [58, 69, 45, 18],\n",
                            "       [50, 44,  1, 63]])"
                        ]
                    },
                    "metadata": {},
                    "execution_count": 347
                }
            ],
            "metadata": {}
        },
        {
            "cell_type": "code",
            "execution_count": 323,
            "source": [
                "y = x[:5, :2]\n",
                "y[0, 0] = 0"
            ],
            "outputs": [],
            "metadata": {}
        },
        {
            "cell_type": "code",
            "execution_count": 339,
            "source": [
                "arr_i = []\n",
                "for index, val in np.ndenumerate(x):\n",
                "    if val % 3 == 0:\n",
                "        arr_i.append(index)\n",
                "            \n",
                "print(arr_i)"
            ],
            "outputs": [
                {
                    "output_type": "stream",
                    "name": "stdout",
                    "text": [
                        "[(0, 3), (1, 3)]\n"
                    ]
                }
            ],
            "metadata": {}
        },
        {
            "cell_type": "code",
            "execution_count": 348,
            "source": [
                "size = 10**2\n",
                "x = np.random.randint(0, 100, (size, size))"
            ],
            "outputs": [],
            "metadata": {}
        },
        {
            "cell_type": "code",
            "execution_count": 349,
            "source": [
                "%%timeit\n",
                "mask = (x % 3 == 0)\n",
                "y = x[mask]"
            ],
            "outputs": [
                {
                    "output_type": "stream",
                    "name": "stdout",
                    "text": [
                        "173 µs ± 6.32 µs per loop (mean ± std. dev. of 7 runs, 10000 loops each)\n"
                    ]
                }
            ],
            "metadata": {}
        },
        {
            "cell_type": "code",
            "execution_count": 350,
            "source": [
                "%%timeit\n",
                "arr = []\n",
                "for index, val in np.ndenumerate(x):\n",
                "    if val % 3 == 0:\n",
                "        arr_i.append(val)"
            ],
            "outputs": [
                {
                    "output_type": "stream",
                    "name": "stdout",
                    "text": [
                        "9.4 ms ± 330 µs per loop (mean ± std. dev. of 7 runs, 100 loops each)\n"
                    ]
                }
            ],
            "metadata": {}
        },
        {
            "cell_type": "code",
            "execution_count": 365,
            "source": [
                "x = np.random.randint(0, 100, (10, 10))"
            ],
            "outputs": [],
            "metadata": {}
        },
        {
            "cell_type": "code",
            "execution_count": 359,
            "source": [
                "y = [(1, 2, 10, 7), (1, 2, 0, 9)]"
            ],
            "outputs": [],
            "metadata": {}
        },
        {
            "cell_type": "code",
            "execution_count": 363,
            "source": [
                "x[np.where(x % 3 == 0)]"
            ],
            "outputs": [
                {
                    "output_type": "execute_result",
                    "data": {
                        "text/plain": [
                            "array([63, 72, 24, ..., 78, 51, 96])"
                        ]
                    },
                    "metadata": {},
                    "execution_count": 363
                }
            ],
            "metadata": {}
        },
        {
            "cell_type": "code",
            "execution_count": 398,
            "source": [
                "y = x[x % 6 == 0]\n",
                "y"
            ],
            "outputs": [
                {
                    "output_type": "execute_result",
                    "data": {
                        "text/plain": [
                            "array([96, 48, 90, 90, 90, 90, 54,  0, 24, 84, 84, 48])"
                        ]
                    },
                    "metadata": {},
                    "execution_count": 398
                }
            ],
            "metadata": {}
        },
        {
            "cell_type": "code",
            "execution_count": 400,
            "source": [
                "z = y.reshape((3, 4))"
            ],
            "outputs": [],
            "metadata": {}
        },
        {
            "cell_type": "code",
            "execution_count": 401,
            "source": [
                "z.flatten()"
            ],
            "outputs": [
                {
                    "output_type": "execute_result",
                    "data": {
                        "text/plain": [
                            "array([96, 48, 90, 90, 90, 90, 54,  0, 24, 84, 84, 48])"
                        ]
                    },
                    "metadata": {},
                    "execution_count": 401
                }
            ],
            "metadata": {}
        },
        {
            "cell_type": "code",
            "execution_count": 409,
            "source": [
                "x = np.random.randint(0, 5, (1000, 10))"
            ],
            "outputs": [],
            "metadata": {}
        },
        {
            "cell_type": "code",
            "execution_count": 403,
            "source": [
                "x"
            ],
            "outputs": [
                {
                    "output_type": "execute_result",
                    "data": {
                        "text/plain": [
                            "array([[2, 2, 2, 2, 4],\n",
                            "       [0, 3, 4, 1, 4],\n",
                            "       [1, 4, 1, 3, 4],\n",
                            "       [1, 4, 3, 3, 3],\n",
                            "       [2, 0, 3, 4, 3],\n",
                            "       [3, 0, 4, 0, 3],\n",
                            "       [3, 4, 2, 2, 1],\n",
                            "       [0, 1, 1, 2, 4],\n",
                            "       [2, 2, 4, 4, 4],\n",
                            "       [3, 1, 1, 3, 2]])"
                        ]
                    },
                    "metadata": {},
                    "execution_count": 403
                }
            ],
            "metadata": {}
        },
        {
            "cell_type": "code",
            "execution_count": 430,
            "source": [
                "round(5.654, 2)"
            ],
            "outputs": [
                {
                    "output_type": "execute_result",
                    "data": {
                        "text/plain": [
                            "5.65"
                        ]
                    },
                    "metadata": {},
                    "execution_count": 430
                }
            ],
            "metadata": {}
        },
        {
            "cell_type": "code",
            "execution_count": 440,
            "source": [
                "x = np.array([1, 2, 3])\n",
                "x"
            ],
            "outputs": [
                {
                    "output_type": "execute_result",
                    "data": {
                        "text/plain": [
                            "array([1, 2, 3])"
                        ]
                    },
                    "metadata": {},
                    "execution_count": 440
                }
            ],
            "metadata": {}
        },
        {
            "cell_type": "code",
            "execution_count": 439,
            "source": [
                "y = np.array([[10], [20], [30]])\n",
                "y"
            ],
            "outputs": [
                {
                    "output_type": "execute_result",
                    "data": {
                        "text/plain": [
                            "array([[10],\n",
                            "       [20],\n",
                            "       [30]])"
                        ]
                    },
                    "metadata": {},
                    "execution_count": 439
                }
            ],
            "metadata": {}
        },
        {
            "cell_type": "code",
            "execution_count": 442,
            "source": [],
            "outputs": [],
            "metadata": {}
        },
        {
            "cell_type": "code",
            "execution_count": 443,
            "source": [
                "y"
            ],
            "outputs": [
                {
                    "output_type": "execute_result",
                    "data": {
                        "text/plain": [
                            "array([[-2. ],\n",
                            "       [-1.9],\n",
                            "       [-1.8],\n",
                            "       [-1.7],\n",
                            "       [-1.6],\n",
                            "       [-1.5],\n",
                            "       [-1.4],\n",
                            "       [-1.3],\n",
                            "       [-1.2],\n",
                            "       [-1.1],\n",
                            "       [-1. ],\n",
                            "       [-0.9],\n",
                            "       [-0.8],\n",
                            "       [-0.7],\n",
                            "       [-0.6],\n",
                            "       [-0.5],\n",
                            "       [-0.4],\n",
                            "       [-0.3],\n",
                            "       [-0.2],\n",
                            "       [-0.1],\n",
                            "       [ 0. ],\n",
                            "       [ 0.1],\n",
                            "       [ 0.2],\n",
                            "       [ 0.3],\n",
                            "       [ 0.4],\n",
                            "       [ 0.5],\n",
                            "       [ 0.6],\n",
                            "       [ 0.7],\n",
                            "       [ 0.8],\n",
                            "       [ 0.9],\n",
                            "       [ 1. ],\n",
                            "       [ 1.1],\n",
                            "       [ 1.2],\n",
                            "       [ 1.3],\n",
                            "       [ 1.4],\n",
                            "       [ 1.5],\n",
                            "       [ 1.6],\n",
                            "       [ 1.7],\n",
                            "       [ 1.8],\n",
                            "       [ 1.9]])"
                        ]
                    },
                    "metadata": {},
                    "execution_count": 443
                }
            ],
            "metadata": {}
        },
        {
            "cell_type": "code",
            "execution_count": 444,
            "source": [
                "x"
            ],
            "outputs": [
                {
                    "output_type": "execute_result",
                    "data": {
                        "text/plain": [
                            "array([[-4. , -3.9, -3.8, -3.7, -3.6, -3.5, -3.4, -3.3, -3.2, -3.1, -3. ,\n",
                            "        -2.9, -2.8, -2.7, -2.6, -2.5, -2.4, -2.3, -2.2, -2.1, -2. , -1.9,\n",
                            "        -1.8, -1.7, -1.6, -1.5, -1.4, -1.3, -1.2, -1.1, -1. , -0.9, -0.8,\n",
                            "        -0.7, -0.6, -0.5, -0.4, -0.3, -0.2, -0.1,  0. ,  0.1,  0.2,  0.3,\n",
                            "         0.4,  0.5,  0.6,  0.7,  0.8,  0.9,  1. ,  1.1,  1.2,  1.3,  1.4,\n",
                            "         1.5,  1.6,  1.7,  1.8,  1.9,  2. ,  2.1,  2.2,  2.3,  2.4,  2.5,\n",
                            "         2.6,  2.7,  2.8,  2.9,  3. ,  3.1,  3.2,  3.3,  3.4,  3.5,  3.6,\n",
                            "         3.7,  3.8,  3.9]])"
                        ]
                    },
                    "metadata": {},
                    "execution_count": 444
                }
            ],
            "metadata": {}
        },
        {
            "cell_type": "code",
            "execution_count": 449,
            "source": [
                "y, x = np.ogrid[-2:2:0.5, -4:4:0.5]\n",
                "points = x + 1j * y"
            ],
            "outputs": [],
            "metadata": {}
        },
        {
            "cell_type": "code",
            "execution_count": 450,
            "source": [
                "points**2 + (0.8 * 1j)"
            ],
            "outputs": [
                {
                    "output_type": "execute_result",
                    "data": {
                        "text/plain": [
                            "array([[12.  +16.8j,  8.25+14.8j,  5.  +12.8j,  2.25+10.8j,  0.   +8.8j,\n",
                            "        -1.75 +6.8j, -3.   +4.8j, -3.75 +2.8j, -4.   +0.8j, -3.75 -1.2j,\n",
                            "        -3.   -3.2j, -1.75 -5.2j,  0.   -7.2j,  2.25 -9.2j,  5.  -11.2j,\n",
                            "         8.25-13.2j],\n",
                            "       [13.75+12.8j, 10.  +11.3j,  6.75 +9.8j,  4.   +8.3j,  1.75 +6.8j,\n",
                            "         0.   +5.3j, -1.25 +3.8j, -2.   +2.3j, -2.25 +0.8j, -2.   -0.7j,\n",
                            "        -1.25 -2.2j,  0.   -3.7j,  1.75 -5.2j,  4.   -6.7j,  6.75 -8.2j,\n",
                            "        10.   -9.7j],\n",
                            "       [15.   +8.8j, 11.25 +7.8j,  8.   +6.8j,  5.25 +5.8j,  3.   +4.8j,\n",
                            "         1.25 +3.8j,  0.   +2.8j, -0.75 +1.8j, -1.   +0.8j, -0.75 -0.2j,\n",
                            "         0.   -1.2j,  1.25 -2.2j,  3.   -3.2j,  5.25 -4.2j,  8.   -5.2j,\n",
                            "        11.25 -6.2j],\n",
                            "       [15.75 +4.8j, 12.   +4.3j,  8.75 +3.8j,  6.   +3.3j,  3.75 +2.8j,\n",
                            "         2.   +2.3j,  0.75 +1.8j,  0.   +1.3j, -0.25 +0.8j,  0.   +0.3j,\n",
                            "         0.75 -0.2j,  2.   -0.7j,  3.75 -1.2j,  6.   -1.7j,  8.75 -2.2j,\n",
                            "        12.   -2.7j],\n",
                            "       [16.   +0.8j, 12.25 +0.8j,  9.   +0.8j,  6.25 +0.8j,  4.   +0.8j,\n",
                            "         2.25 +0.8j,  1.   +0.8j,  0.25 +0.8j,  0.   +0.8j,  0.25 +0.8j,\n",
                            "         1.   +0.8j,  2.25 +0.8j,  4.   +0.8j,  6.25 +0.8j,  9.   +0.8j,\n",
                            "        12.25 +0.8j],\n",
                            "       [15.75 -3.2j, 12.   -2.7j,  8.75 -2.2j,  6.   -1.7j,  3.75 -1.2j,\n",
                            "         2.   -0.7j,  0.75 -0.2j,  0.   +0.3j, -0.25 +0.8j,  0.   +1.3j,\n",
                            "         0.75 +1.8j,  2.   +2.3j,  3.75 +2.8j,  6.   +3.3j,  8.75 +3.8j,\n",
                            "        12.   +4.3j],\n",
                            "       [15.   -7.2j, 11.25 -6.2j,  8.   -5.2j,  5.25 -4.2j,  3.   -3.2j,\n",
                            "         1.25 -2.2j,  0.   -1.2j, -0.75 -0.2j, -1.   +0.8j, -0.75 +1.8j,\n",
                            "         0.   +2.8j,  1.25 +3.8j,  3.   +4.8j,  5.25 +5.8j,  8.   +6.8j,\n",
                            "        11.25 +7.8j],\n",
                            "       [13.75-11.2j, 10.   -9.7j,  6.75 -8.2j,  4.   -6.7j,  1.75 -5.2j,\n",
                            "         0.   -3.7j, -1.25 -2.2j, -2.   -0.7j, -2.25 +0.8j, -2.   +2.3j,\n",
                            "        -1.25 +3.8j,  0.   +5.3j,  1.75 +6.8j,  4.   +8.3j,  6.75 +9.8j,\n",
                            "        10.  +11.3j]])"
                        ]
                    },
                    "metadata": {},
                    "execution_count": 450
                }
            ],
            "metadata": {}
        },
        {
            "cell_type": "code",
            "execution_count": null,
            "source": [
                "x "
            ],
            "outputs": [],
            "metadata": {}
        }
    ],
    "metadata": {
        "orig_nbformat": 4,
        "language_info": {
            "name": "python",
            "version": "3.7.11",
            "mimetype": "text/x-python",
            "codemirror_mode": {
                "name": "ipython",
                "version": 3
            },
            "pygments_lexer": "ipython3",
            "nbconvert_exporter": "python",
            "file_extension": ".py"
        },
        "kernelspec": {
            "name": "python3",
            "display_name": "Python 3.7.11 64-bit ('venv': venv)"
        },
        "interpreter": {
            "hash": "693a0dabc8004d8fca479d6b04b27839f01e061a970c9348d0495a354fe92896"
        }
    },
    "nbformat": 4,
    "nbformat_minor": 2
}