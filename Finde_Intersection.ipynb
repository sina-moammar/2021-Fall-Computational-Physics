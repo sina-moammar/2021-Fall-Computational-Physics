{
 "cells": [
  {
   "cell_type": "code",
   "execution_count": 43,
   "source": [
    "import numpy as np"
   ],
   "outputs": [],
   "metadata": {}
  },
  {
   "cell_type": "code",
   "execution_count": 44,
   "source": [
    "np.random.seed(0)\n",
    "size = 1000\n",
    "\n",
    "xs = np.random.randint(0, 100, size)\n",
    "ys = np.random.randint(0, 100, size)"
   ],
   "outputs": [],
   "metadata": {}
  },
  {
   "cell_type": "code",
   "execution_count": 45,
   "source": [
    "%%timeit\n",
    "# O(n) = n^2\n",
    "\n",
    "intersection = {x_i\n",
    "                for x_i in xs\n",
    "                for y_i in ys\n",
    "                if x_i == y_i}"
   ],
   "outputs": [
    {
     "output_type": "stream",
     "name": "stdout",
     "text": [
      "98.7 ms ± 1.12 ms per loop (mean ± std. dev. of 7 runs, 10 loops each)\n"
     ]
    }
   ],
   "metadata": {}
  },
  {
   "cell_type": "code",
   "execution_count": 46,
   "source": [
    "%%timeit\n",
    "# O(n) = n\n",
    "\n",
    "xs_set = set(xs)\n",
    "ys_set = set(ys)\n",
    "\n",
    "intersection = xs_set.intersection(ys_set)"
   ],
   "outputs": [
    {
     "output_type": "stream",
     "name": "stdout",
     "text": [
      "224 µs ± 13.5 µs per loop (mean ± std. dev. of 7 runs, 1000 loops each)\n"
     ]
    }
   ],
   "metadata": {}
  },
  {
   "cell_type": "code",
   "execution_count": 47,
   "source": [
    "%%timeit\n",
    "# O(n) = n\n",
    "\n",
    "intersection = np.intersect1d(xs, ys)"
   ],
   "outputs": [
    {
     "output_type": "stream",
     "name": "stdout",
     "text": [
      "87.8 µs ± 828 ns per loop (mean ± std. dev. of 7 runs, 10000 loops each)\n"
     ]
    }
   ],
   "metadata": {}
  }
 ],
 "metadata": {
  "orig_nbformat": 4,
  "language_info": {
   "name": "python",
   "version": "3.7.11",
   "mimetype": "text/x-python",
   "codemirror_mode": {
    "name": "ipython",
    "version": 3
   },
   "pygments_lexer": "ipython3",
   "nbconvert_exporter": "python",
   "file_extension": ".py"
  },
  "kernelspec": {
   "name": "python3",
   "display_name": "Python 3.7.11 64-bit ('venv': venv)"
  },
  "interpreter": {
   "hash": "693a0dabc8004d8fca479d6b04b27839f01e061a970c9348d0495a354fe92896"
  }
 },
 "nbformat": 4,
 "nbformat_minor": 2
}